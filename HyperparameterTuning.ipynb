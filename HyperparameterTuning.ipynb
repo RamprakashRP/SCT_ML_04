{
 "cells": [
  {
   "cell_type": "code",
   "execution_count": null,
   "metadata": {},
   "outputs": [],
   "source": [
    "import os\n",
    "from kerashypetune import KerasGridSearch\n",
    "from keras.optimizers import SGD\n",
    "\n",
    "from lib.data_loader import DataLoader\n",
    "from lib.image import ImageDataGenerator\n",
    "from lib.resnet_model import Resnet3DBuilder"
   ]
  },
  {
   "cell_type": "code",
   "execution_count": null,
   "metadata": {},
   "outputs": [],
   "source": [
    "root_directory = r'<path>\\dataset'\n",
    "labels_csv_path = os.path.join(root_directory, 'labels_extracted.csv')\n",
    "train_csv_path = os.path.join(root_directory, 'train_extracted2.csv')\n",
    "val_csv_path = os.path.join(root_directory, 'validation_extracted2.csv')\n",
    "train_path = os.path.join(root_directory, 'Train')\n",
    "val_path = os.path.join(root_directory, 'Validation')\n",
    "\n",
    "data = DataLoader(labels_csv_path, train_csv_path, val_csv_path)"
   ]
  },
  {
   "cell_type": "code",
   "execution_count": null,
   "metadata": {},
   "outputs": [],
   "source": [
    "WIDTH = 96\n",
    "HEIGHT = 64\n",
    "TARGET_SIZE = (HEIGHT, WIDTH)\n",
    "BATCH_SIZE = 32\n",
    "N_FRAMES = 16\n",
    "SKIP = 1\n",
    "INPUT_SHAPE = (N_FRAMES,) + TARGET_SIZE + (3,)\n",
    "N_CLASSES = 10\n",
    "EPOCHS = 1\n",
    "WORKERS = 2\n",
    "\n",
    "param_grid = {\n",
    "    'drop_rate': [0.2, 0.5],\n",
    "    'learning_rate': [0.001, 0.01]\n",
    "}"
   ]
  },
  {
   "cell_type": "code",
   "execution_count": null,
   "metadata": {},
   "outputs": [],
   "source": [
    "def define_model(params):\n",
    "\n",
    "    model = Resnet3DBuilder.build_resnet_101(\n",
    "        input_shape=INPUT_SHAPE, \n",
    "        num_outputs=N_CLASSES,\n",
    "        drop_rate=params['drop_rate']\n",
    "    )\n",
    "\n",
    "    optimizer = SGD(learning_rate=params['learning_rate'])\n",
    "    model.compile(optimizer=optimizer, loss='categorical_crossentropy', metrics=['accuracy'])\n",
    "\n",
    "    return model"
   ]
  },
  {
   "cell_type": "code",
   "execution_count": null,
   "metadata": {},
   "outputs": [],
   "source": [
    "image_datagen = ImageDataGenerator()\n",
    "\n",
    "train_generator = image_datagen.flow_video_from_dataframe(\n",
    "    dataframe=data.train_df, \n",
    "    directory=train_path, \n",
    "    path_classes=labels_csv_path, \n",
    "    x_col='video_id', \n",
    "    y_col='label', \n",
    "    target_size=TARGET_SIZE, \n",
    "    class_mode='categorical',\n",
    "    color_mode='rgb',\n",
    "    batch_size=BATCH_SIZE, \n",
    "    shuffle=True,\n",
    "    seed=42,\n",
    "    nb_frames=N_FRAMES, \n",
    "    skip=SKIP\n",
    ")\n",
    "\n",
    "validation_generator = image_datagen.flow_video_from_dataframe(\n",
    "    dataframe=data.val_df, \n",
    "    directory=val_path, \n",
    "    path_classes=labels_csv_path, \n",
    "    x_col='video_id', \n",
    "    y_col='label', \n",
    "    target_size=TARGET_SIZE, \n",
    "    class_mode='categorical',\n",
    "    color_mode='rgb',\n",
    "    batch_size=BATCH_SIZE, \n",
    "    shuffle=True,\n",
    "    seed=42,\n",
    "    nb_frames=N_FRAMES, \n",
    "    skip=SKIP\n",
    ")"
   ]
  },
  {
   "cell_type": "code",
   "execution_count": null,
   "metadata": {},
   "outputs": [],
   "source": [
    "kgs = KerasGridSearch(\n",
    "    hypermodel=define_model, \n",
    "    param_grid=param_grid,\n",
    "    monitor='val_accuracy', \n",
    "    greater_is_better=True, \n",
    "    tuner_verbose=1\n",
    ")\n",
    "\n",
    "n_sample_train = len(data.train_df)\n",
    "n_sample_val = len(data.val_df)\n",
    "\n",
    "kgs.search(\n",
    "    x=train_generator, \n",
    "    steps_per_epoch=n_sample_train/BATCH_SIZE,\n",
    "    validation_data=validation_generator, \n",
    "    validation_steps=n_sample_val/BATCH_SIZE,\n",
    "    epochs=1, \n",
    "    workers=WORKERS,\n",
    "    verbose=1\n",
    ")"
   ]
  },
  {
   "cell_type": "code",
   "execution_count": null,
   "metadata": {},
   "outputs": [],
   "source": [
    "kgs.best_params"
   ]
  }
 ],
 "metadata": {
  "kernelspec": {
   "display_name": "Python 3 (ipykernel)",
   "language": "python",
   "name": "python3"
  },
  "language_info": {
   "codemirror_mode": {
    "name": "ipython",
    "version": 3
   },
   "file_extension": ".py",
   "mimetype": "text/x-python",
   "name": "python",
   "nbconvert_exporter": "python",
   "pygments_lexer": "ipython3",
   "version": "3.11.5"
  },
  "vscode": {
   "interpreter": {
    "hash": "94d428781488fc80efbcf1813aebef3ab29b8f7306bf7c2f915b598b7233f7c0"
   }
  }
 },
 "nbformat": 4,
 "nbformat_minor": 4
}
